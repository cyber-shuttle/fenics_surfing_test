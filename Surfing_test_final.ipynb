{
 "cells": [
  {
   "cell_type": "markdown",
   "id": "4ea91c83",
   "metadata": {},
   "source": [
    "## Connecting to Cybershuttle"
   ]
  },
  {
   "cell_type": "code",
   "execution_count": null,
   "id": "6a4d8bc1",
   "metadata": {
    "collapsed": true,
    "jupyter": {
     "outputs_hidden": true
    }
   },
   "outputs": [],
   "source": [
    "%pip install -q \"airavata-python-sdk[notebook]\"\n",
    "import airavata_jupyter_magic\n",
    "\n",
    "%authenticate\n",
    "%request_runtime hpc_cpu --file=cybershuttle.yml --walltime=60 --use=NeuroData25VC1:cloud\n",
    "%switch_runtime hpc_cpu"
   ]
  },
  {
   "cell_type": "markdown",
   "id": "d4de116f",
   "metadata": {},
   "source": [
    "## Importing the required libraries"
   ]
  },
  {
   "cell_type": "code",
   "execution_count": null,
   "id": "a47ac33d",
   "metadata": {
    "collapsed": true,
    "jupyter": {
     "outputs_hidden": true
    }
   },
   "outputs": [],
   "source": [
    "from mpi4py import MPI\n",
    "from dolfinx import mesh, fem, io, plot, nls, log, geometry, la\n",
    "from dolfinx import cpp as _cpp\n",
    "from dolfinx import default_real_type\n",
    "import dolfinx.fem.petsc\n",
    "import ufl\n",
    "import numpy as np\n",
    "from petsc4py.PETSc import ScalarType\n",
    "from petsc4py import PETSc\n",
    "import time\n",
    "import os"
   ]
  },
  {
   "cell_type": "markdown",
   "id": "2459c12c",
   "metadata": {},
   "source": [
    "## Defining material properties"
   ]
  },
  {
   "cell_type": "code",
   "execution_count": null,
   "id": "5c2ec43f",
   "metadata": {
    "collapsed": true,
    "jupyter": {
     "outputs_hidden": true
    }
   },
   "outputs": [],
   "source": [
    "E, nu = 9800, 0.13                                                               #Young's modulus and Poisson's ratio    \n",
    "mu, lmbda, kappa = E/(2*(1 + nu)), E*nu/((1 + nu)*(1 - 2*nu)), E/(3*(1 - 2*nu))\n",
    "Gc= 0.091125\t\t                                                             #Critical energy release rate       \n",
    "\n",
    "sts, scs= 27, 77\t                     #Tensile strength and compressive strength  \n",
    "shs = (2/3)*sts*scs/(scs-sts)\n",
    "Wts = sts**2/(2*E)\n",
    "Whs = shs**2/(2*kappa)\n",
    "\n",
    "lch = 3*Gc*E/8/(sts**2)                   #Irwin characteristic length = 0.45875\n",
    "eps = 0.35                                #The regularization length\n",
    "h = 0.05                                  #The element size\n",
    "\n",
    "delta = (1+3*h/(8*eps))**(-2) * ((sts + (1+2*np.sqrt(3))*shs)/((8+3*np.sqrt(3))*shs)) * 3*Gc/(16*Wts*eps) + (1+3*h/(8*eps))**(-1) * (2/5)"
   ]
  },
  {
   "cell_type": "markdown",
   "id": "fe1fd77b",
   "metadata": {},
   "source": [
    "## Setting up the communicator and the mesh"
   ]
  },
  {
   "cell_type": "code",
   "execution_count": null,
   "id": "e75925a1",
   "metadata": {
    "collapsed": true,
    "jupyter": {
     "outputs_hidden": true
    }
   },
   "outputs": [],
   "source": [
    "comm = MPI.COMM_WORLD\n",
    "comm_rank = MPI.COMM_WORLD.rank\n",
    "\n",
    "#Geometry\n",
    "ac = 5.0                              #notch length\n",
    "W, L = 30.0, 5.0                      #making use of symmetry\n",
    "\n",
    "domain = mesh.create_rectangle(comm = comm,points=[np.array([0,0]), np.array([W,L])],n=[int(W/(8*h))\n",
    "                               ,int(L/(8*h))], cell_type=mesh.CellType.triangle\n",
    "                               , diagonal= mesh.DiagonalType.left_right)\n",
    "\n",
    "# Mesh refinement\n",
    "def cell_criterion2(x):\n",
    "    return (x[1]<3.5*eps) & (x[0]>ac-20*h)\n",
    "\n",
    "ir=0\n",
    "while ir<3:\n",
    "    domain.topology.create_connectivity(domain.topology.dim, domain.topology.dim)\n",
    "    cells_local = np.arange(domain.topology.index_map(domain.topology.dim).size_local, dtype=np.int32)\n",
    "    midpoints = dolfinx.mesh.compute_midpoints(domain, domain.topology.dim, cells_local).T\n",
    "    should_refine = np.flatnonzero(cell_criterion2(midpoints)).astype(np.int32)\n",
    "    domain.topology.create_entities(1)\n",
    "    local_edges = dolfinx.mesh.compute_incident_entities(domain.topology, should_refine, domain.topology.dim, 1)\n",
    "    domain = dolfinx.mesh.refine(domain, local_edges)[0]\n",
    "    ir+=1\n"
   ]
  },
  {
   "cell_type": "markdown",
   "id": "9ed7ebc9",
   "metadata": {},
   "source": [
    "## Visualizing the mesh"
   ]
  },
  {
   "cell_type": "code",
   "execution_count": null,
   "id": "47f234a3",
   "metadata": {},
   "outputs": [],
   "source": [
    "#%pip install pyvista[notebook] panel\n",
    "\n",
    "import pyvista as pv\n",
    "from dolfinx.plot import vtk_mesh\n",
    "\n",
    "# pick your backend as before\n",
    "pv.set_jupyter_backend('static')   # or 'html', 'client', etc.\n",
    "\n",
    "# build your mesh…\n",
    "topology, cell_types, x = vtk_mesh(domain)\n",
    "grid = pv.UnstructuredGrid(topology, cell_types, x)\n",
    "\n",
    "# create the Plotter with a larger window\n",
    "plotter = pv.Plotter(window_size=(3*1200, 3*900))  \n",
    "plotter.add_mesh(grid, show_edges=True)\n",
    "plotter.camera_position = 'xy'\n",
    "\n",
    "plotter.show()"
   ]
  },
  {
   "cell_type": "markdown",
   "id": "8ac84eea",
   "metadata": {},
   "source": [
    "## Initialising function spaces and functions"
   ]
  },
  {
   "cell_type": "code",
   "execution_count": null,
   "id": "5c82d0ee",
   "metadata": {
    "collapsed": true,
    "jupyter": {
     "outputs_hidden": true
    }
   },
   "outputs": [],
   "source": [
    "V = fem.functionspace(domain, (\"Lagrange\", 1, (2,)))\n",
    "Y = fem.functionspace(domain, (\"Lagrange\", 1)) \n",
    "V_stress = fem.functionspace(domain, (\"Lagrange\", 1, (2,2)))\n",
    "\n",
    "stress = fem.Function(V_stress, name = \"stress\")\n",
    "u  = fem.Function(V, name=\"displacement\")\n",
    "u_trial = fem.Function(V)\n",
    "v = ufl.TestFunction(V)\n",
    "du = ufl.TrialFunction(V)\n",
    "\n",
    "z  = fem.Function(Y, name=\"phasefield\")\n",
    "z_trial  = fem.Function(Y)\n",
    "y  = ufl.TestFunction(Y)\n",
    "dz = ufl.TrialFunction(Y) \n",
    "\n",
    "z_lb = fem.Function(Y, name=\"Lower bound\")\n",
    "z_ub = fem.Function(Y, name=\"Upper bound\")\n",
    "z_ub.x.array[:] = 1\n",
    "z_ub.x.scatter_forward() \n",
    "z_lb.x.array[:] = 0\n",
    "z_lb.x.scatter_forward() "
   ]
  },
  {
   "cell_type": "markdown",
   "id": "140680be",
   "metadata": {},
   "source": [
    "## Expression for mode I  displacement"
   ]
  },
  {
   "cell_type": "code",
   "execution_count": null,
   "id": "955207a8",
   "metadata": {
    "collapsed": true,
    "jupyter": {
     "outputs_hidden": true
    }
   },
   "outputs": [],
   "source": [
    "class MyExpression:\n",
    "    def __init__(self):\n",
    "        self.t = 0.0\n",
    "        self.v = 20.0\n",
    "\n",
    "    def eval(self, x):\n",
    "        values = np.zeros((1, x.shape[1]))\n",
    "        values[0,:] = (1/2/mu)*np.sqrt(Gc*E)/np.sqrt(2*np.pi)*\\\n",
    "              (((x[0]-self.v*self.t)**2+L**2)**0.25)*\\\n",
    "              ((3-nu)/(1+nu)-np.cos(np.arctan2(L,(x[0]-self.v*self.t))))*\\\n",
    "              np.sin(0.5*np.arctan2(L,(x[0]-self.v*self.t)))\n",
    "\n",
    "        return values\n",
    "\n",
    "V_1, _ = V.sub(1).collapse()\n",
    "re = MyExpression()\n",
    "re.t = 0\n",
    "r = fem.Function(V_1)\n",
    "r.interpolate(re.eval)"
   ]
  },
  {
   "cell_type": "markdown",
   "id": "ff9e2c4a",
   "metadata": {},
   "source": [
    "## Setting the Dirichlet part of boundary conditions"
   ]
  },
  {
   "cell_type": "code",
   "execution_count": null,
   "id": "36cb412c",
   "metadata": {
    "collapsed": true,
    "jupyter": {
     "outputs_hidden": true
    }
   },
   "outputs": [],
   "source": [
    "def left(x):\n",
    "    return np.isclose(x[0], 0)\n",
    "\n",
    "def front(x):\n",
    "    return np.isclose(x[0], W)\n",
    "\n",
    "def top(x):\n",
    "    return np.isclose(x[1], L)\n",
    "\n",
    "def bottom(x):\n",
    "    return (x[1]<1e-4) & (x[0]>ac - 1e-4)\n",
    "\n",
    "def cracktip(x):\n",
    "    return (x[1] < 1e-4) & (x[0] > ac - h*10) & (x[0] < ac+1e-4)\n",
    "\n",
    "def righttop(x):\n",
    "    return (np.abs(x[1]-L) < h*10) & (np.abs(x[0]-W) < h*10)\n",
    "    # return (np.abs(x[1]) < h*1.5) & (np.abs(x[0]-W) < h*1)\n",
    "\n",
    "def outer(x):\n",
    "    return (x[1] > L/10)\n",
    "\n",
    "fdim = domain.topology.dim -1\n",
    "left_facets = mesh.locate_entities_boundary(domain, fdim, left)\n",
    "front_facets = mesh.locate_entities_boundary(domain, fdim, front)\n",
    "top_facets = mesh.locate_entities_boundary(domain, fdim, top)\n",
    "bottom_facets = mesh.locate_entities(domain, fdim, bottom)\n",
    "cracktip_facets = mesh.locate_entities(domain, fdim, cracktip)\n",
    "righttop_facets = mesh.locate_entities(domain, fdim, righttop)\n",
    "outer_facets = mesh.locate_entities(domain, fdim, outer)\n",
    "\n",
    "\n",
    "dofs_righttop = fem.locate_dofs_topological(V.sub(0), fdim, righttop_facets)\n",
    "dofs_bottom = fem.locate_dofs_topological(V.sub(1), fdim, bottom_facets)\n",
    "dofs_top = fem.locate_dofs_topological((V.sub(1), V_1), fdim, top_facets)\n",
    "\n",
    "dofs_outer = fem.locate_dofs_topological(Y, fdim, outer_facets)\n",
    "dofs_cracktip = fem.locate_dofs_topological(Y, fdim, cracktip_facets)\n",
    "\n",
    "bcr = fem.dirichletbc(ScalarType(0), dofs_righttop, V.sub(0))\n",
    "bcb = fem.dirichletbc(ScalarType(0), dofs_bottom, V.sub(1))\n",
    "bct = fem.dirichletbc(r, dofs_top, V.sub(1))\n",
    "bcs_u = [bcr, bcb, bct]\n",
    "\n",
    "\n",
    "bct_z = fem.dirichletbc(ScalarType(1), dofs_outer, Y)\n",
    "bcc_z = fem.dirichletbc(ScalarType(0), dofs_cracktip, Y)\n",
    "bcs_z = [bct_z, bcc_z]"
   ]
  },
  {
   "cell_type": "markdown",
   "id": "44a12a1e",
   "metadata": {},
   "source": [
    "## Marking facets and defining measures"
   ]
  },
  {
   "cell_type": "code",
   "execution_count": null,
   "id": "7b090915",
   "metadata": {
    "collapsed": true,
    "jupyter": {
     "outputs_hidden": true
    }
   },
   "outputs": [],
   "source": [
    "marked_facets = np.hstack([front_facets, left_facets, top_facets])\n",
    "marked_values = np.hstack([np.full_like(front_facets, 1),\n",
    "                           np.full_like(left_facets, 2),\n",
    "                           np.full_like(top_facets, 3)])\n",
    "\n",
    "sorted_facets = np.argsort(marked_facets)\n",
    "facet_tag = mesh.meshtags(domain, domain.topology.dim -1,\n",
    "                          marked_facets[sorted_facets],\n",
    "                          marked_values[sorted_facets])\n",
    "\n",
    "dx = ufl.Measure(\"dx\", domain=domain,  metadata={\"quadrature_degree\": 4, \"quadrature_scheme\": \"default\"} )\n",
    "ds = ufl.Measure(\"ds\", domain=domain, subdomain_data=facet_tag,  metadata={\"quadrature_degree\": 4, \"quadrature_scheme\": \"default\"})\n",
    "\n",
    "n = ufl.FacetNormal(domain)"
   ]
  },
  {
   "cell_type": "markdown",
   "id": "b0937479",
   "metadata": {},
   "source": [
    "## Imposing the boundary conditions"
   ]
  },
  {
   "cell_type": "code",
   "execution_count": null,
   "id": "910809ea",
   "metadata": {
    "collapsed": true,
    "jupyter": {
     "outputs_hidden": true
    }
   },
   "outputs": [],
   "source": [
    "u.x.array[:] = 0.\n",
    "u.x.scatter_forward() \n",
    "\n",
    "\n",
    "z.x.array[:] = 1.\n",
    "fem.petsc.set_bc(z.x.petsc_vec, bcs_z)\n",
    "z.x.scatter_forward() "
   ]
  },
  {
   "cell_type": "markdown",
   "id": "55018b75",
   "metadata": {},
   "source": [
    "## User defined fucntions for energy, stress, strain and for other utilities"
   ]
  },
  {
   "cell_type": "code",
   "execution_count": null,
   "id": "a56be02d",
   "metadata": {
    "collapsed": true,
    "jupyter": {
     "outputs_hidden": true
    }
   },
   "outputs": [],
   "source": [
    "def local_project(v, V):\n",
    "    \"\"\"[summary]\n",
    "        Helper function to do a interpolation\n",
    "    Args:\n",
    "        v ([dolfin.Funcion]): [function to be projected]\n",
    "        V ([dolfin.Function]): [target `dolfin.FunctionSpace` to be projected on]\n",
    "\n",
    "    Returns:\n",
    "        [dolfin.Function]: [target function after projection]\n",
    "\n",
    "    DOESN'T WORK while propjecting quadrature element to a standard element??why??\n",
    "    \"\"\"\n",
    "    expr = fem.Expression(v, V.element.interpolation_points, comm)\n",
    "    u = fem.Function(V)\n",
    "    u.interpolate(expr)\n",
    "    u.x.scatter_forward()\n",
    "    return u\n",
    "\n",
    "def norm_L2(comm, v):\n",
    "    \"\"\"Compute the L2(O)-norm of v\"\"\"\n",
    "    return np.sqrt(comm.allreduce(fem.assemble_scalar(fem.form(ufl.inner(v, v) * dx)), op=MPI.SUM))\n",
    "\n",
    "def energy(v):\n",
    "\treturn mu*(ufl.inner(ufl.sym(ufl.grad(v)),ufl.sym(ufl.grad(v))) + ((nu/(1-nu))**2)*(ufl.tr(ufl.sym(ufl.grad(v))))**2 )+  0.5*(lmbda)*(ufl.tr(ufl.sym(ufl.grad(v)))*(1-2*nu)/(1-nu))**2 \n",
    "\t\n",
    "def epsilon(v):\n",
    "\treturn ufl.sym(ufl.grad(v))\n",
    "\n",
    "def sigma(v):\n",
    "\treturn 2.0*mu*ufl.sym(ufl.grad(v)) + (lmbda)*ufl.tr(ufl.sym(ufl.grad(v)))*(1-2*nu)/(1-nu)*ufl.Identity(len(v))\n",
    "\n",
    "def sigmavm(v):\n",
    "\tsig = sigma(v)\n",
    "\treturn ufl.sqrt(1/2*(ufl.inner(sig-1/3*ufl.tr(sig)*ufl.Identity(len(v)), sig-1/3*ufl.tr(sig)*ufl.Identity(len(v))) + (1/9)*ufl.tr(sig)**2 ))\n",
    "\n",
    "def dgd(z):\n",
    "    return (z**2 + 1e-5)"
   ]
  },
  {
   "cell_type": "markdown",
   "id": "65897d1d",
   "metadata": {},
   "source": [
    "## Setting up the solver"
   ]
  },
  {
   "cell_type": "code",
   "execution_count": null,
   "id": "7d202149",
   "metadata": {
    "collapsed": true,
    "jupyter": {
     "outputs_hidden": true
    }
   },
   "outputs": [],
   "source": [
    "from dolfinx.cpp.log import LogLevel, log\n",
    "\n",
    "class SNESSolver:\n",
    "    \"\"\"\n",
    "    Problem class for elasticity, compatible with PETSC.SNES solvers.\n",
    "    \"\"\"\n",
    "    def __init__(self, F_form: ufl.Form, u: fem.Function, bcs=[], J_form: ufl.Form = None, bounds=None, petsc_options={},\n",
    "        form_compiler_parameters={}, jit_parameters={}, monitor=None, prefix=None,):\n",
    "        self.u = u\n",
    "        self.bcs = bcs\n",
    "        self.bounds = bounds\n",
    "        # Give PETSc solver options a unique prefix\n",
    "        if prefix is None:\n",
    "            prefix = \"snes_{}\".format(str(id(self))[0:4])\n",
    "        self.prefix = prefix\n",
    "        if self.bounds is not None:\n",
    "            self.lb = bounds[0]\n",
    "            self.ub = bounds[1]\n",
    "        V = self.u.function_space\n",
    "        self.comm = V.mesh.comm\n",
    "        self.F_form = fem.form(F_form)\n",
    "        if J_form is None:\n",
    "            J_form = ufl.derivative(F_form, self.u, ufl.TrialFunction(V))\n",
    "        self.J_form = fem.form(J_form)\n",
    "        self.petsc_options = petsc_options\n",
    "        self.monitor = monitor\n",
    "        self.solver = self.solver_setup()\n",
    "\n",
    "\n",
    "    def set_petsc_options(self, debug=False):\n",
    "        # Set PETSc options\n",
    "        opts = PETSc.Options()\n",
    "        opts.prefixPush(self.prefix)\n",
    "        if debug is True:\n",
    "            ColorPrint.print_info(self.petsc_options)\n",
    "        for k, v in self.petsc_options.items():\n",
    "            opts[k] = v\n",
    "        opts.prefixPop()\n",
    "\n",
    "\n",
    "    def solver_setup(self):\n",
    "        # Create nonlinear solver\n",
    "        snes = PETSc.SNES().create(self.comm)\n",
    "        # Set options\n",
    "        snes.setOptionsPrefix(self.prefix)\n",
    "        self.set_petsc_options()\n",
    "        snes.setFromOptions()\n",
    "        self.b = fem.petsc.create_vector(self.F_form)\n",
    "        self.a = fem.petsc.create_matrix(self.J_form)\n",
    "        snes.setFunction(self.F, self.b)\n",
    "        snes.setJacobian(self.J, self.a)\n",
    "        # We set the bound (Note: they are passed as reference and not as values)\n",
    "        if self.monitor is not None:\n",
    "            snes.setMonitor(self.monitor)\n",
    "        if self.bounds is not None:\n",
    "            snes.setVariableBounds(self.lb.x.petsc_vec, self.ub.x.petsc_vec)\n",
    "        return snes\n",
    "\n",
    "\n",
    "    def F(self, snes: PETSc.SNES, x: PETSc.Vec, b: PETSc.Vec):\n",
    "        \"\"\"Assemble the residual F into the vector b.\"\"\"\n",
    "        x.ghostUpdate(addv=PETSc.InsertMode.INSERT, mode=PETSc.ScatterMode.FORWARD)\n",
    "        x.copy(self.u.x.petsc_vec)  # Updated line\n",
    "        self.u.x.scatter_forward()\n",
    "        # Zero the residual vector\n",
    "        with b.localForm() as b_local:\n",
    "            b_local.set(0.0)\n",
    "        fem.petsc.assemble_vector(b, self.F_form)\n",
    "        # this is a nasty workaround to include the force term with the bug https://github.com/FEniCS/dolfinx/issues/2664\n",
    "        # force_form = fem.form(-F_ext(v))\n",
    "        # b_ds = fem.petsc.create_vector(force_form)\n",
    "        # fem.petsc.assemble_vector(b_ds,force_form)\n",
    "        # b.array[:] += b_ds.array\n",
    "        \n",
    "        # Apply boundary conditions\n",
    "        fem.petsc.apply_lifting(b, [self.J_form], [self.bcs], [x], -1.0)\n",
    "        b.ghostUpdate(addv=PETSc.InsertMode.ADD, mode=PETSc.ScatterMode.REVERSE)\n",
    "        fem.petsc.set_bc(b, self.bcs, x, -1.0)\n",
    "\n",
    "\n",
    "    def J(self, snes, x: PETSc.Vec, A: PETSc.Mat, P: PETSc.Mat):\n",
    "        \"\"\"Assemble the Jacobian matrix.\n",
    "        Parameters\n",
    "        ==========\n",
    "        x: Vector containing the latest solution.\n",
    "        A: Matrix to assemble the Jacobian into.\n",
    "        \"\"\"\n",
    "        A.zeroEntries()\n",
    "        fem.petsc.assemble_matrix(A, self.J_form, self.bcs)\n",
    "        A.assemble()\n",
    "\n",
    "\n",
    "    def solve(self):\n",
    "        log(LogLevel.INFO, f\"Solving {self.prefix}\")\n",
    "        try:\n",
    "            self.solver.solve(None, self.u.x.petsc_vec)  # Updated line\n",
    "            self.u.x.scatter_forward()\n",
    "            return (self.solver.getIterationNumber(), self.solver.getConvergedReason())\n",
    "        except Warning:\n",
    "            log(\n",
    "                LogLevel.WARNING,\n",
    "                f\"WARNING: {self.prefix} solver failed to converge, what's next?\",\n",
    "            )\n",
    "            raise RuntimeError(f\"{self.prefix} solvers did not converge\")       \n",
    "\n",
    "petsc_options_SNES_u = {\n",
    "    \"snes_type\": \"vinewtonrsls\",\n",
    "    \"snes_linesearch_type\": \"basic\",\n",
    "    \"ksp_type\": \"preonly\",\n",
    "    \"pc_type\": \"lu\",\n",
    "    \"pc_factor_mat_solver_type\": \"mumps\",\n",
    "    \"snes_atol\": 1.0e-08,\n",
    "    \"snes_rtol\": 1.0e-08,\n",
    "    \"snes_stol\": 1.0e-08,\n",
    "    \"snes_max_it\": 10,\n",
    "    \"snes_monitor\": \"\",\n",
    "}\n",
    "petsc_options_SNES_z = {\n",
    "    \"snes_type\": \"vinewtonrsls\",\n",
    "    \"snes_linesearch_type\": \"basic\",\n",
    "    \"ksp_type\": \"preonly\",\n",
    "    \"pc_type\": \"lu\",\n",
    "    \"pc_factor_mat_solver_type\": \"mumps\",\n",
    "    \"snes_atol\": 1.0e-08,\n",
    "    \"snes_rtol\": 1.0e-08,\n",
    "    \"snes_stol\": 1.0e-08,\n",
    "    \"snes_max_it\": 10,\n",
    "    \"snes_monitor\": \"\",\n",
    "}"
   ]
  },
  {
   "cell_type": "markdown",
   "id": "98c2a98d",
   "metadata": {},
   "source": [
    "## Weak form of the PDE for the displacement"
   ]
  },
  {
   "cell_type": "code",
   "execution_count": null,
   "id": "f9aa8937",
   "metadata": {
    "collapsed": true,
    "jupyter": {
     "outputs_hidden": true
    }
   },
   "outputs": [],
   "source": [
    "psi1 = dgd(z)*(energy(u))\n",
    "psi11 = energy(u)\n",
    "Pi = psi1*dx #- ufl.dot(Tf, u)*ds(1)\n",
    "\n",
    "R_u = ufl.derivative(Pi, u, v)\n",
    "J_u = ufl.derivative(R_u, u, du)\n",
    "problem_u = SNESSolver(R_u, u, J_form = J_u, bcs = bcs_u, petsc_options=petsc_options_SNES_u)"
   ]
  },
  {
   "cell_type": "markdown",
   "id": "72664394",
   "metadata": {},
   "source": [
    "## Defining the external force $c_e$ in the phase field equation"
   ]
  },
  {
   "cell_type": "code",
   "execution_count": null,
   "id": "aded0d17",
   "metadata": {
    "collapsed": true,
    "jupyter": {
     "outputs_hidden": true
    }
   },
   "outputs": [],
   "source": [
    "I1_d = dgd(z)*ufl.tr(sigma(u))\n",
    "SQJ2_d = dgd(z)*sigmavm(u)\n",
    "\n",
    "beta1 = -(delta*Gc)/(shs*8*eps) + (2*Whs)/(3*shs)\n",
    "beta2 = -(3**0.5*(3*shs - sts)*delta*Gc)/(shs*sts*8*eps) - (2*Whs)/(3**0.5*shs) + (2*3**0.5*Wts)/(sts)\n",
    "\n",
    "ce = beta2*SQJ2_d + beta1*I1_d + z*(1-ufl.sqrt(I1_d**2)/I1_d)*psi11 "
   ]
  },
  {
   "cell_type": "markdown",
   "id": "660baf77",
   "metadata": {},
   "source": [
    "## Weak form of the PDE for the phase field"
   ]
  },
  {
   "cell_type": "code",
   "execution_count": null,
   "id": "29d95924",
   "metadata": {
    "collapsed": true,
    "jupyter": {
     "outputs_hidden": true
    }
   },
   "outputs": [],
   "source": [
    "R_z = y*2*z*(psi11)*dx - y*(ce)*dx + 3*delta*Gc/8*(-y/eps + 2*eps*ufl.inner(ufl.grad(z),ufl.grad(y)))*dx\n",
    "J_z = ufl.derivative(R_z, z, dz)\n",
    "problem_z = SNESSolver(R_z, z, J_form = J_z, bcs = bcs_z, petsc_options=petsc_options_SNES_z, bounds=(z_lb, z_ub))"
   ]
  },
  {
   "cell_type": "markdown",
   "id": "fe2e0518",
   "metadata": {},
   "source": [
    "## Setting the time step parameters"
   ]
  },
  {
   "cell_type": "code",
   "execution_count": null,
   "id": "a2a53513",
   "metadata": {
    "collapsed": true,
    "jupyter": {
     "outputs_hidden": true
    }
   },
   "outputs": [],
   "source": [
    "tol = 1e-8\n",
    "T = 1; Totalsteps = 50; stepsize = T/Totalsteps\n",
    "t = stepsize; tau=0\n",
    "step=1"
   ]
  },
  {
   "cell_type": "markdown",
   "id": "7a37f87b",
   "metadata": {},
   "source": [
    "## Solving the problem over several time steps via a staggered scheme and post-processing (t = 0 to 0.5)"
   ]
  },
  {
   "cell_type": "code",
   "execution_count": null,
   "id": "670266b5",
   "metadata": {
    "collapsed": true,
    "jupyter": {
     "outputs_hidden": true
    },
    "scrolled": true
   },
   "outputs": [],
   "source": [
    "while t-stepsize < 0.5:\n",
    "    \n",
    "\tre.t=t\n",
    "\tr.interpolate(re.eval)\n",
    "\n",
    "\tif comm_rank==0:\n",
    "\t\tprint(f\"\\n------ Solve for Step = {step} ------ t={t:5.5f} -------\")\n",
    "\n",
    "\tstag_iter = 1; zres = 1e7;# ures = 1e7\n",
    "\n",
    "\tmask = z.x.array <= 0.05\n",
    "\tz_ub.x.array[mask] = z.x.array[mask] + .002\n",
    "\tz_ub.x.scatter_forward() \n",
    "\n",
    "\twhile (stag_iter < 50) and (zres > tol):\n",
    "          \n",
    "\t\tstart_time=time.time()\n",
    "\n",
    "\t\tif comm_rank==0:\n",
    "\t\t\tprint(f\"-u-u-u-u-u-u-u-u-u-u-u-u-u-u-u-u-u-u-u-u-u-\")\n",
    "\n",
    "\t\tout = problem_u.solve()  #Solving for u\n",
    "\t\tu.x.scatter_forward()\n",
    "\n",
    "\t\tif comm_rank==0:\n",
    "\t\t\tprint(f\"-z-z-z-z-z-z-z-z-z-z-z-z-z-z-z-z-z-z-z-z-z-\")\n",
    "\n",
    "\t\tz_trial.x.array[:] = z.x.array\n",
    "\t\tout = problem_z.solve()  #Solving for z\n",
    "\t\tz.x.scatter_forward()\n",
    "\t\tzres = norm_L2(comm, z_trial - z)\n",
    "\n",
    "\t\tif comm_rank==0:\n",
    "\t\t\tprint(f\"====Iter={stag_iter}====zres={zres:.7e}===={time.time() - start_time:.4f}\")\n",
    "\n",
    "\t\tstag_iter += 1\n",
    "\n",
    "\n",
    "\tJI = fem.form((-ufl.dot(ufl.dot(sigma(u), n), u.dx(0)))*ds(3)\\\n",
    "\t\t\t\t\t+ (psi1*n[0]  - ufl.dot(ufl.dot(sigma(u), n), u.dx(0))) * ds(1)\\\n",
    "\t\t\t\t\t+ (psi1*n[0]  - ufl.dot(ufl.dot(sigma(u), n), u.dx(0))) * ds(2))\n",
    "     \n",
    "\tJintegral = domain.comm.allreduce(fem.assemble_scalar(JI), op=MPI.SUM)\n",
    "\n",
    "\n",
    "\tif comm_rank==0:\n",
    "\t\twith open('Surfing.txt', 'a') as rfile:\n",
    "\t\t\trfile.write(f\"{t:.5f}  {2*Jintegral:.5f} \\n\") \n",
    "\n",
    "\tif step % 1==0:\n",
    "\t\tvtk = io.VTKFile(domain.comm, f\"paraview/_Model_{step}.pvd\", \"w\")\n",
    "\t\t#stress.x.array[:] = (local_project(dgd(z)*sigma(u), V_stress)).x.array\n",
    "\t\t#stress.name = \"stress\"\n",
    "\t\t#vtk.write_function([u, z, stress], t)\n",
    "\t\tvtk.write_function([u, z], t)\n",
    "\t\tvtk.close()\n",
    "\n",
    "\ttau += stepsize\n",
    "\tt += stepsize\n",
    "\tstep += 1"
   ]
  },
  {
   "cell_type": "markdown",
   "id": "d2ff1901",
   "metadata": {},
   "source": [
    "## Results upto t=0.6\n",
    "Plot of energy release rate"
   ]
  },
  {
   "cell_type": "code",
   "execution_count": null,
   "id": "13e8ea7c",
   "metadata": {},
   "outputs": [],
   "source": [
    "import matplotlib.pyplot as plt\n",
    "from matplotlib.ticker import MultipleLocator\n",
    "\n",
    "# Load data: assume two whitespace‐separated columns [t, J]\n",
    "data = np.loadtxt('Surfing.txt')\n",
    "time_data = data[:, 0]\n",
    "J = data[:, 1]\n",
    "\n",
    "# Create the plot\n",
    "plt.figure(figsize=(10,8))\n",
    "plt.plot(time_data, J, marker='o', linestyle='-')\n",
    "\n",
    "# Plot the horizontal line y = 0.091125\n",
    "plt.axhline(0.091125, linestyle='--',color='red', label='Gc')\n",
    "\n",
    "plt.xticks(np.arange(0, 1, 0.1))\n",
    "plt.yticks(np.arange(0, 0.1, 0.01))\n",
    "\n",
    "plt.axis([0, 1, 0, 0.1])\n",
    "plt.xlabel('Time', fontsize=16)\n",
    "plt.ylabel('J‐integral (N/mm)', fontsize=16)\n",
    "plt.title('J‐integral vs Time', fontsize=18)\n",
    "plt.grid(True)\n",
    "plt.tight_layout()\n",
    "\n",
    "plt.show()"
   ]
  },
  {
   "cell_type": "markdown",
   "id": "e1ed5d7a",
   "metadata": {},
   "source": [
    "## Downloading vtk files for visualization"
   ]
  },
  {
   "cell_type": "code",
   "execution_count": null,
   "id": "6f991005",
   "metadata": {
    "collapsed": true,
    "jupyter": {
     "outputs_hidden": true
    },
    "scrolled": true
   },
   "outputs": [],
   "source": [
    "!tar cvzf paraview.tar.gz paraview"
   ]
  },
  {
   "cell_type": "code",
   "execution_count": null,
   "id": "96802c20",
   "metadata": {
    "collapsed": true,
    "jupyter": {
     "outputs_hidden": true
    }
   },
   "outputs": [],
   "source": [
    "%copy_data source=hpc_cpu:paraview.tar.gz target=local:."
   ]
  },
  {
   "cell_type": "markdown",
   "id": "0c7b6cef",
   "metadata": {},
   "source": [
    "## Solving the problem over several time steps via a staggered scheme and post-processing (t = 0.5 to 1)"
   ]
  },
  {
   "cell_type": "code",
   "execution_count": null,
   "id": "934426f1",
   "metadata": {
    "scrolled": true
   },
   "outputs": [],
   "source": [
    "while t-stepsize < 1:\n",
    "    \n",
    "\tre.t=t\n",
    "\tr.interpolate(re.eval)\n",
    "\n",
    "\tif comm_rank==0:\n",
    "\t\tprint(f\"\\n------ Solve for Step = {step} ------ t={t:5.5f} -------\")\n",
    "\n",
    "\tstag_iter = 1; zres = 1e7;# ures = 1e7\n",
    "\n",
    "\tmask = z.x.array <= 0.05\n",
    "\tz_ub.x.array[mask] = z.x.array[mask] + .002\n",
    "\tz_ub.x.scatter_forward() \n",
    "\n",
    "\twhile (stag_iter < 50) and (zres > tol):\n",
    "          \n",
    "\t\tstart_time=time.time()\n",
    "\n",
    "\t\tif comm_rank==0:\n",
    "\t\t\tprint(f\"-u-u-u-u-u-u-u-u-u-u-u-u-u-u-u-u-u-u-u-u-u-\")\n",
    "\n",
    "\t\tout = problem_u.solve()  #Solving for u\n",
    "\t\tu.x.scatter_forward()\n",
    "\n",
    "\t\tif comm_rank==0:\n",
    "\t\t\tprint(f\"-z-z-z-z-z-z-z-z-z-z-z-z-z-z-z-z-z-z-z-z-z-\")\n",
    "\n",
    "\t\tz_trial.x.array[:] = z.x.array\n",
    "\t\tout = problem_z.solve()  #Solving for z\n",
    "\t\tz.x.scatter_forward()\n",
    "\t\tzres = norm_L2(comm, z_trial - z)\n",
    "\n",
    "\t\tif comm_rank==0:\n",
    "\t\t\tprint(f\"====Iter={stag_iter}====zres={zres:.7e}===={time.time() - start_time:.4f}\")\n",
    "\n",
    "\t\tstag_iter += 1\n",
    "\n",
    "\n",
    "\tJI = fem.form((-ufl.dot(ufl.dot(sigma(u), n), u.dx(0)))*ds(3)\\\n",
    "\t\t\t\t\t+ (psi1*n[0]  - ufl.dot(ufl.dot(sigma(u), n), u.dx(0))) * ds(1)\\\n",
    "\t\t\t\t\t+ (psi1*n[0]  - ufl.dot(ufl.dot(sigma(u), n), u.dx(0))) * ds(2))\n",
    "     \n",
    "\tJintegral = domain.comm.allreduce(fem.assemble_scalar(JI), op=MPI.SUM)\n",
    "\n",
    "\n",
    "\tif comm_rank==0:\n",
    "\t\twith open('Surfing.txt', 'a') as rfile:\n",
    "\t\t\trfile.write(f\"{t:.5f}  {2*Jintegral:.5f} \\n\") \n",
    "\n",
    "\tif step % 1==0:\n",
    "\t\tvtk = io.VTKFile(domain.comm, f\"paraview/_Model_{step}.pvd\", \"w\")\n",
    "\t\t#stress.x.array[:] = (local_project(dgd(z)*sigma(u), V_stress)).x.array\n",
    "\t\t#stress.name = \"stress\"\n",
    "\t\t#vtk.write_function([u, z, stress], t)\n",
    "\t\tvtk.write_function([u, z], t)\n",
    "\t\tvtk.close()\n",
    "\n",
    "\ttau += stepsize\n",
    "\tt += stepsize\n",
    "\tstep += 1"
   ]
  },
  {
   "cell_type": "markdown",
   "id": "e4c7f4cc",
   "metadata": {},
   "source": [
    "## Final Results\n",
    "Plot of energy release rate"
   ]
  },
  {
   "cell_type": "code",
   "execution_count": null,
   "id": "7cec3e27",
   "metadata": {},
   "outputs": [],
   "source": [
    "import matplotlib.pyplot as plt\n",
    "from matplotlib.ticker import MultipleLocator\n",
    "\n",
    "# Load data: assume two whitespace‐separated columns [t, J]\n",
    "data = np.loadtxt('Surfing.txt')\n",
    "time_data = data[:, 0]\n",
    "J = data[:, 1]\n",
    "\n",
    "# Create the plot\n",
    "plt.figure(figsize=(10,8))\n",
    "plt.plot(time_data, J, marker='o', linestyle='-')\n",
    "\n",
    "# Plot the horizontal line y = 0.091125\n",
    "plt.axhline(0.091125, linestyle='--',color='red', label='Gc')\n",
    "\n",
    "plt.xticks(np.arange(0, 1, 0.1))\n",
    "plt.yticks(np.arange(0, 0.1, 0.01))\n",
    "\n",
    "plt.axis([0, 1, 0, 0.1])\n",
    "plt.xlabel('Time', fontsize=16)\n",
    "plt.ylabel('J‐integral (N/mm)', fontsize=16)\n",
    "plt.title('J‐integral vs Time', fontsize=18)\n",
    "plt.grid(True)\n",
    "plt.tight_layout()\n",
    "\n",
    "plt.show()"
   ]
  },
  {
   "cell_type": "markdown",
   "id": "1ce0ac5a",
   "metadata": {},
   "source": [
    "## Downloading vtk files for visualization"
   ]
  },
  {
   "cell_type": "code",
   "execution_count": null,
   "id": "84ec9f9b",
   "metadata": {
    "scrolled": true
   },
   "outputs": [],
   "source": [
    "!tar cvzf paraview_full.tar.gz paraview"
   ]
  },
  {
   "cell_type": "code",
   "execution_count": null,
   "id": "e31b75a3",
   "metadata": {},
   "outputs": [],
   "source": [
    "%copy_data source=hpc_cpu:paraview_full.tar.gz target=local:."
   ]
  }
 ],
 "metadata": {
  "kernelspec": {
   "display_name": "Python 3 (ipykernel)",
   "language": "python",
   "name": "python3"
  },
  "language_info": {
   "codemirror_mode": {
    "name": "ipython",
    "version": 3
   },
   "file_extension": ".py",
   "mimetype": "text/x-python",
   "name": "python",
   "nbconvert_exporter": "python",
   "pygments_lexer": "ipython3",
   "version": "3.11.6"
  }
 },
 "nbformat": 4,
 "nbformat_minor": 5
}
